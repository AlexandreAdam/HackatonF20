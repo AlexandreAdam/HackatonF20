{
 "cells": [
  {
   "cell_type": "code",
   "execution_count": 1,
   "metadata": {},
   "outputs": [],
   "source": [
    "import matplotlib.pyplot as plt\n",
    "import numpy as np\n",
    "import os\n",
    "import PIL\n",
    "import tensorflow as tf\n",
    "import shutil\n",
    "\n",
    "from tensorflow import keras\n",
    "from tensorflow.keras import layers\n",
    "from tensorflow.keras.models import Sequential\n",
    "import pathlib\n",
    "import pandas as pd"
   ]
  },
  {
   "cell_type": "code",
   "execution_count": 2,
   "metadata": {},
   "outputs": [
    {
     "name": "stdout",
     "output_type": "stream",
     "text": [
      "49999\n"
     ]
    }
   ],
   "source": [
    "data_dir=pathlib.Path('./train_images/')\n",
    "image_count = len(list(data_dir.glob('*.png')))\n",
    "print(image_count)"
   ]
  },
  {
   "cell_type": "markdown",
   "metadata": {},
   "source": [
    "# sort file into subfolders\n",
    "# je suis trop paresseux pour label manuellement\n",
    "def key(word):\n",
    "    return int(word[6:-4])\n",
    "\n",
    "onlyfiles = [f for f in os.listdir(data_dir) if os.path.isfile(os.path.join(data_dir, f))] # files to sort\n",
    "idlist = np.loadtxt('train_label.txt',dtype=str)\n",
    "\n",
    "onlyfiles.sort(key=key)\n",
    "\n",
    "for i in range(image_count):\n",
    "    label,image = idlist[i],onlyfiles[i]\n",
    "    \n",
    "    destination = os.path.join('D:/OneDrive/kaggle/challenge5/train_images_sorted/',label+'/')\n",
    "    shutil.copy('./train_images/'+image,destination)   "
   ]
  },
  {
   "cell_type": "code",
   "execution_count": 3,
   "metadata": {},
   "outputs": [
    {
     "name": "stdout",
     "output_type": "stream",
     "text": [
      "Found 49999 files belonging to 10 classes.\n",
      "Using 40000 files for training.\n"
     ]
    }
   ],
   "source": [
    "#load data\n",
    "batch_size = 300\n",
    "img_height = 32\n",
    "img_width = 32\n",
    "\n",
    "data_dir=pathlib.Path('./train_images_sorted/')\n",
    "\n",
    "# prep training sample\n",
    "train_ds = tf.keras.preprocessing.image_dataset_from_directory(\n",
    "  data_dir,\n",
    "  validation_split=0.2,\n",
    "  subset=\"training\",\n",
    "  seed=123,\n",
    "  image_size=(img_height, img_width),\n",
    "  batch_size=batch_size)\n"
   ]
  },
  {
   "cell_type": "code",
   "execution_count": 4,
   "metadata": {},
   "outputs": [
    {
     "name": "stdout",
     "output_type": "stream",
     "text": [
      "Found 49999 files belonging to 10 classes.\n",
      "Using 9999 files for validation.\n"
     ]
    }
   ],
   "source": [
    "# prep validation sample\n",
    "val_ds = tf.keras.preprocessing.image_dataset_from_directory(\n",
    "  data_dir,\n",
    "  validation_split=0.2,\n",
    "  subset=\"validation\",\n",
    "  seed=123,\n",
    "  image_size=(img_height, img_width),\n",
    "  batch_size=batch_size)"
   ]
  },
  {
   "cell_type": "code",
   "execution_count": 5,
   "metadata": {},
   "outputs": [
    {
     "name": "stdout",
     "output_type": "stream",
     "text": [
      "['airplane', 'automobile', 'bird', 'cat', 'deer', 'dog', 'frog', 'horse', 'ship', 'truck']\n"
     ]
    }
   ],
   "source": [
    "# verify classes are ok\n",
    "class_names = train_ds.class_names\n",
    "print(class_names)"
   ]
  },
  {
   "cell_type": "code",
   "execution_count": 9,
   "metadata": {},
   "outputs": [],
   "source": [
    "# speed up bitch\n",
    "train_ds = train_ds.cache() # met dataset dans cache\n",
    "train_ds = train_ds.prefetch(tf.data.experimental.AUTOTUNE) # prefetch du cpu vers gpu pendant training"
   ]
  },
  {
   "cell_type": "code",
   "execution_count": 10,
   "metadata": {},
   "outputs": [],
   "source": [
    "# augment data\n",
    "data_augmentation = keras.Sequential(\n",
    "  [\n",
    "    layers.experimental.preprocessing.RandomFlip(\"horizontal_and_vertical\", \n",
    "                                                 input_shape=(img_height, \n",
    "                                                              img_width,\n",
    "                                                              3)),\n",
    "    layers.experimental.preprocessing.RandomRotation(0.1),\n",
    "    layers.experimental.preprocessing.RandomZoom(0.1),\n",
    "    layers.experimental.preprocessing.RandomContrast(0.3),\n",
    "\n",
    "  ]\n",
    ")\n"
   ]
  },
  {
   "cell_type": "code",
   "execution_count": 18,
   "metadata": {},
   "outputs": [],
   "source": [
    "num_classes=10\n",
    "\n",
    "# try another model with dropout\n",
    "model = Sequential([\n",
    "  data_augmentation,\n",
    "  layers.experimental.preprocessing.Rescaling(1./255),\n",
    "  tf.keras.layers.BatchNormalization(),\n",
    "  layers.Conv2D(64, 5, padding='same', activation=tf.keras.layers.LeakyReLU()),\n",
    "  layers.MaxPooling2D(),\n",
    "  layers.Conv2D(16, 5, padding='same', activation=tf.keras.layers.LeakyReLU()),\n",
    "  layers.Conv2D(32, 3, padding='same', activation=tf.keras.layers.LeakyReLU()),\n",
    "  tf.keras.layers.BatchNormalization(),\n",
    "  layers.Conv2D(64, 3, padding='same', activation=tf.keras.layers.LeakyReLU()),\n",
    "  layers.Conv2D(64, 3, padding='same', activation=tf.keras.layers.LeakyReLU()),\n",
    "  tf.keras.layers.BatchNormalization(),\n",
    "  layers.Flatten(),\n",
    "  layers.Dense(128, activation='relu'),\n",
    "  layers.Dense(num_classes)\n",
    "])\n",
    "\n",
    "model.compile(optimizer='adam',\n",
    "              loss=tf.keras.losses.SparseCategoricalCrossentropy(from_logits=True),\n",
    "              metrics=['accuracy'])"
   ]
  },
  {
   "cell_type": "code",
   "execution_count": 19,
   "metadata": {},
   "outputs": [
    {
     "name": "stdout",
     "output_type": "stream",
     "text": [
      "Epoch 1/100\n",
      "134/134 [==============================] - 90s 674ms/step - loss: 2.0919 - accuracy: 0.2806 - val_loss: 2.2143 - val_accuracy: 0.1887\n",
      "Epoch 2/100\n",
      "134/134 [==============================] - 91s 677ms/step - loss: 1.7027 - accuracy: 0.3778 - val_loss: 1.7182 - val_accuracy: 0.3426\n",
      "Epoch 3/100\n",
      "134/134 [==============================] - 87s 653ms/step - loss: 1.5939 - accuracy: 0.4202 - val_loss: 1.6133 - val_accuracy: 0.4044\n",
      "Epoch 4/100\n",
      "134/134 [==============================] - 89s 665ms/step - loss: 1.5004 - accuracy: 0.4539 - val_loss: 1.4919 - val_accuracy: 0.4617\n",
      "Epoch 5/100\n",
      "134/134 [==============================] - 84s 626ms/step - loss: 1.4462 - accuracy: 0.4760 - val_loss: 1.3903 - val_accuracy: 0.5019\n",
      "Epoch 6/100\n",
      "134/134 [==============================] - 89s 661ms/step - loss: 1.3853 - accuracy: 0.4980 - val_loss: 1.3943 - val_accuracy: 0.5098\n",
      "Epoch 7/100\n",
      "134/134 [==============================] - 89s 667ms/step - loss: 1.3445 - accuracy: 0.5161 - val_loss: 1.3897 - val_accuracy: 0.5117\n",
      "Epoch 8/100\n",
      "134/134 [==============================] - 85s 632ms/step - loss: 1.3107 - accuracy: 0.5278 - val_loss: 1.3643 - val_accuracy: 0.5210\n",
      "Epoch 9/100\n",
      "134/134 [==============================] - 83s 622ms/step - loss: 1.2781 - accuracy: 0.5415 - val_loss: 1.3002 - val_accuracy: 0.5518\n",
      "Epoch 10/100\n",
      "134/134 [==============================] - 86s 641ms/step - loss: 1.2598 - accuracy: 0.5482 - val_loss: 1.2146 - val_accuracy: 0.5697\n",
      "Epoch 11/100\n",
      "134/134 [==============================] - 88s 655ms/step - loss: 1.2293 - accuracy: 0.5599 - val_loss: 1.3287 - val_accuracy: 0.5508\n",
      "Epoch 12/100\n",
      "134/134 [==============================] - 86s 639ms/step - loss: 1.2027 - accuracy: 0.5700 - val_loss: 1.2869 - val_accuracy: 0.5642\n",
      "Epoch 13/100\n",
      "134/134 [==============================] - 89s 663ms/step - loss: 1.1743 - accuracy: 0.5804 - val_loss: 1.1836 - val_accuracy: 0.5858\n",
      "Epoch 14/100\n",
      "134/134 [==============================] - 87s 651ms/step - loss: 1.1592 - accuracy: 0.5889 - val_loss: 1.2477 - val_accuracy: 0.5812\n",
      "Epoch 15/100\n",
      "134/134 [==============================] - 86s 644ms/step - loss: 1.1484 - accuracy: 0.5924 - val_loss: 1.1670 - val_accuracy: 0.5944\n",
      "Epoch 16/100\n",
      "134/134 [==============================] - 90s 669ms/step - loss: 1.1290 - accuracy: 0.6021 - val_loss: 1.2811 - val_accuracy: 0.5717\n",
      "Epoch 17/100\n",
      "134/134 [==============================] - 86s 644ms/step - loss: 1.1106 - accuracy: 0.6062 - val_loss: 1.3683 - val_accuracy: 0.5599\n",
      "Epoch 18/100\n",
      "134/134 [==============================] - 86s 643ms/step - loss: 1.1031 - accuracy: 0.6075 - val_loss: 1.2263 - val_accuracy: 0.5890\n",
      "Epoch 19/100\n",
      "134/134 [==============================] - 87s 652ms/step - loss: 1.0856 - accuracy: 0.6154 - val_loss: 1.2081 - val_accuracy: 0.5964\n",
      "Epoch 20/100\n",
      "134/134 [==============================] - 88s 653ms/step - loss: 1.0713 - accuracy: 0.6226 - val_loss: 1.1757 - val_accuracy: 0.6036\n",
      "Epoch 21/100\n",
      "134/134 [==============================] - 88s 658ms/step - loss: 1.0591 - accuracy: 0.6223 - val_loss: 1.2148 - val_accuracy: 0.5975\n",
      "Epoch 22/100\n",
      "134/134 [==============================] - 90s 669ms/step - loss: 1.0465 - accuracy: 0.6329 - val_loss: 1.2094 - val_accuracy: 0.5936\n",
      "Epoch 23/100\n",
      "134/134 [==============================] - 90s 674ms/step - loss: 1.0401 - accuracy: 0.6339 - val_loss: 1.0775 - val_accuracy: 0.6319\n",
      "Epoch 24/100\n",
      "134/134 [==============================] - 90s 668ms/step - loss: 1.0232 - accuracy: 0.6387 - val_loss: 1.0704 - val_accuracy: 0.6342\n",
      "Epoch 25/100\n",
      "134/134 [==============================] - 84s 629ms/step - loss: 1.0148 - accuracy: 0.6435 - val_loss: 1.1626 - val_accuracy: 0.6152\n",
      "Epoch 26/100\n",
      "134/134 [==============================] - 85s 633ms/step - loss: 1.0055 - accuracy: 0.6449 - val_loss: 1.0663 - val_accuracy: 0.6417\n",
      "Epoch 27/100\n",
      "134/134 [==============================] - 83s 616ms/step - loss: 0.9975 - accuracy: 0.6499 - val_loss: 1.0550 - val_accuracy: 0.6376\n",
      "Epoch 28/100\n",
      "134/134 [==============================] - 82s 614ms/step - loss: 0.9938 - accuracy: 0.6493 - val_loss: 1.0994 - val_accuracy: 0.6299\n",
      "Epoch 29/100\n",
      "134/134 [==============================] - 84s 627ms/step - loss: 0.9864 - accuracy: 0.6548 - val_loss: 1.0114 - val_accuracy: 0.6537\n",
      "Epoch 30/100\n",
      "134/134 [==============================] - 83s 623ms/step - loss: 0.9689 - accuracy: 0.6589 - val_loss: 1.0376 - val_accuracy: 0.6511\n",
      "Epoch 31/100\n",
      "134/134 [==============================] - 83s 622ms/step - loss: 0.9653 - accuracy: 0.6619 - val_loss: 1.0126 - val_accuracy: 0.6620\n",
      "Epoch 32/100\n",
      "134/134 [==============================] - 85s 636ms/step - loss: 0.9532 - accuracy: 0.6674 - val_loss: 1.0843 - val_accuracy: 0.6381\n",
      "Epoch 33/100\n",
      "134/134 [==============================] - 87s 650ms/step - loss: 0.9453 - accuracy: 0.6679 - val_loss: 1.0810 - val_accuracy: 0.6399\n",
      "Epoch 34/100\n",
      "134/134 [==============================] - 87s 648ms/step - loss: 0.9384 - accuracy: 0.6731 - val_loss: 1.0994 - val_accuracy: 0.6420\n",
      "Epoch 35/100\n",
      "134/134 [==============================] - 83s 618ms/step - loss: 0.9382 - accuracy: 0.6705 - val_loss: 1.0144 - val_accuracy: 0.6618\n",
      "Epoch 36/100\n",
      "134/134 [==============================] - 83s 619ms/step - loss: 0.9308 - accuracy: 0.6757 - val_loss: 0.9871 - val_accuracy: 0.6642\n",
      "Epoch 37/100\n",
      "134/134 [==============================] - 83s 617ms/step - loss: 0.9191 - accuracy: 0.6776 - val_loss: 0.9751 - val_accuracy: 0.6718\n",
      "Epoch 38/100\n",
      "134/134 [==============================] - 83s 618ms/step - loss: 0.9114 - accuracy: 0.6833 - val_loss: 1.0903 - val_accuracy: 0.6393\n",
      "Epoch 39/100\n",
      "134/134 [==============================] - 87s 653ms/step - loss: 0.9133 - accuracy: 0.6810 - val_loss: 0.9488 - val_accuracy: 0.6769\n",
      "Epoch 40/100\n",
      "134/134 [==============================] - 86s 645ms/step - loss: 0.8965 - accuracy: 0.6884 - val_loss: 1.0762 - val_accuracy: 0.6470\n",
      "Epoch 41/100\n",
      "134/134 [==============================] - 89s 665ms/step - loss: 0.8977 - accuracy: 0.6841 - val_loss: 0.9832 - val_accuracy: 0.6703\n",
      "Epoch 42/100\n",
      "134/134 [==============================] - 89s 663ms/step - loss: 0.8886 - accuracy: 0.6877 - val_loss: 0.9477 - val_accuracy: 0.6819\n",
      "Epoch 43/100\n",
      "134/134 [==============================] - 84s 627ms/step - loss: 0.8921 - accuracy: 0.6870 - val_loss: 0.9337 - val_accuracy: 0.6803\n",
      "Epoch 44/100\n",
      "134/134 [==============================] - 83s 616ms/step - loss: 0.8791 - accuracy: 0.6929 - val_loss: 0.9810 - val_accuracy: 0.6738\n",
      "Epoch 45/100\n",
      "134/134 [==============================] - 82s 611ms/step - loss: 0.8755 - accuracy: 0.6952 - val_loss: 0.9324 - val_accuracy: 0.6878\n",
      "Epoch 46/100\n",
      "134/134 [==============================] - 82s 611ms/step - loss: 0.8732 - accuracy: 0.6966 - val_loss: 0.9169 - val_accuracy: 0.6845\n",
      "Epoch 47/100\n",
      "134/134 [==============================] - 82s 613ms/step - loss: 0.8639 - accuracy: 0.6988 - val_loss: 1.0331 - val_accuracy: 0.6664\n",
      "Epoch 48/100\n",
      "134/134 [==============================] - 82s 613ms/step - loss: 0.8565 - accuracy: 0.7027 - val_loss: 0.9408 - val_accuracy: 0.6879\n",
      "Epoch 49/100\n",
      "134/134 [==============================] - 81s 608ms/step - loss: 0.8570 - accuracy: 0.7008 - val_loss: 0.9490 - val_accuracy: 0.6828\n",
      "Epoch 50/100\n",
      "134/134 [==============================] - 82s 612ms/step - loss: 0.8488 - accuracy: 0.7049 - val_loss: 1.0145 - val_accuracy: 0.6685\n",
      "Epoch 51/100\n",
      "134/134 [==============================] - 82s 613ms/step - loss: 0.8481 - accuracy: 0.7034 - val_loss: 0.9880 - val_accuracy: 0.6758\n",
      "Epoch 52/100\n",
      "134/134 [==============================] - 82s 609ms/step - loss: 0.8423 - accuracy: 0.7046 - val_loss: 0.8881 - val_accuracy: 0.7023\n",
      "Epoch 53/100\n",
      "134/134 [==============================] - 82s 613ms/step - loss: 0.8320 - accuracy: 0.7106 - val_loss: 1.0575 - val_accuracy: 0.6656\n",
      "Epoch 54/100\n",
      "134/134 [==============================] - 82s 609ms/step - loss: 0.8296 - accuracy: 0.7112 - val_loss: 0.9177 - val_accuracy: 0.6931\n",
      "Epoch 55/100\n",
      "134/134 [==============================] - 81s 604ms/step - loss: 0.8338 - accuracy: 0.7089 - val_loss: 0.9229 - val_accuracy: 0.6897\n",
      "Epoch 56/100\n",
      "134/134 [==============================] - 81s 606ms/step - loss: 0.8275 - accuracy: 0.7109 - val_loss: 0.9415 - val_accuracy: 0.6937\n"
     ]
    },
    {
     "name": "stdout",
     "output_type": "stream",
     "text": [
      "Epoch 57/100\n",
      "134/134 [==============================] - 81s 606ms/step - loss: 0.8194 - accuracy: 0.7127 - val_loss: 0.9600 - val_accuracy: 0.6921\n",
      "Epoch 58/100\n",
      "134/134 [==============================] - 82s 610ms/step - loss: 0.8132 - accuracy: 0.7158 - val_loss: 0.9427 - val_accuracy: 0.6904\n",
      "Epoch 59/100\n",
      "134/134 [==============================] - 81s 606ms/step - loss: 0.8125 - accuracy: 0.7158 - val_loss: 0.9545 - val_accuracy: 0.6952\n",
      "Epoch 60/100\n",
      "134/134 [==============================] - 82s 609ms/step - loss: 0.8136 - accuracy: 0.7163 - val_loss: 0.8792 - val_accuracy: 0.7074\n",
      "Epoch 61/100\n",
      "134/134 [==============================] - 81s 605ms/step - loss: 0.7979 - accuracy: 0.7210 - val_loss: 0.9044 - val_accuracy: 0.7008\n",
      "Epoch 62/100\n",
      "134/134 [==============================] - 81s 608ms/step - loss: 0.8101 - accuracy: 0.7182 - val_loss: 0.9007 - val_accuracy: 0.7016\n",
      "Epoch 63/100\n",
      "134/134 [==============================] - 82s 610ms/step - loss: 0.7985 - accuracy: 0.7203 - val_loss: 0.9253 - val_accuracy: 0.6983\n",
      "Epoch 64/100\n",
      "134/134 [==============================] - 81s 606ms/step - loss: 0.7908 - accuracy: 0.7233 - val_loss: 0.9892 - val_accuracy: 0.6846\n",
      "Epoch 65/100\n",
      "134/134 [==============================] - 81s 607ms/step - loss: 0.7938 - accuracy: 0.7243 - val_loss: 0.9294 - val_accuracy: 0.6978\n",
      "Epoch 66/100\n",
      "134/134 [==============================] - 82s 614ms/step - loss: 0.7896 - accuracy: 0.7249 - val_loss: 0.9030 - val_accuracy: 0.7099\n",
      "Epoch 67/100\n",
      "134/134 [==============================] - 82s 610ms/step - loss: 0.7891 - accuracy: 0.7251 - val_loss: 0.8800 - val_accuracy: 0.7093\n",
      "Epoch 68/100\n",
      "134/134 [==============================] - 86s 641ms/step - loss: 0.7826 - accuracy: 0.7264 - val_loss: 0.9372 - val_accuracy: 0.7006\n",
      "Epoch 69/100\n",
      "134/134 [==============================] - 88s 653ms/step - loss: 0.7762 - accuracy: 0.7280 - val_loss: 0.9531 - val_accuracy: 0.6895\n",
      "Epoch 70/100\n",
      "134/134 [==============================] - 89s 663ms/step - loss: 0.7709 - accuracy: 0.7303 - val_loss: 0.9276 - val_accuracy: 0.6973\n",
      "Epoch 71/100\n",
      "134/134 [==============================] - 87s 646ms/step - loss: 0.7728 - accuracy: 0.7297 - val_loss: 1.0273 - val_accuracy: 0.6782\n",
      "Epoch 72/100\n",
      "134/134 [==============================] - 91s 678ms/step - loss: 0.7680 - accuracy: 0.7327 - val_loss: 0.9005 - val_accuracy: 0.7103\n",
      "Epoch 73/100\n",
      "134/134 [==============================] - 90s 669ms/step - loss: 0.7638 - accuracy: 0.7338 - val_loss: 0.8486 - val_accuracy: 0.7194\n",
      "Epoch 74/100\n",
      "134/134 [==============================] - 91s 676ms/step - loss: 0.7657 - accuracy: 0.7312 - val_loss: 0.9008 - val_accuracy: 0.7105\n",
      "Epoch 75/100\n",
      "134/134 [==============================] - 85s 634ms/step - loss: 0.7564 - accuracy: 0.7358 - val_loss: 0.9045 - val_accuracy: 0.7081\n",
      "Epoch 76/100\n",
      "134/134 [==============================] - 86s 639ms/step - loss: 0.7581 - accuracy: 0.7378 - val_loss: 0.9625 - val_accuracy: 0.6874\n",
      "Epoch 77/100\n",
      "134/134 [==============================] - 89s 662ms/step - loss: 0.7509 - accuracy: 0.7387 - val_loss: 0.8839 - val_accuracy: 0.7094\n",
      "Epoch 78/100\n",
      "134/134 [==============================] - 85s 638ms/step - loss: 0.7451 - accuracy: 0.7379 - val_loss: 0.9396 - val_accuracy: 0.6986\n",
      "Epoch 79/100\n",
      "134/134 [==============================] - 86s 642ms/step - loss: 0.7475 - accuracy: 0.7407 - val_loss: 0.9134 - val_accuracy: 0.7103\n",
      "Epoch 80/100\n",
      "134/134 [==============================] - 85s 634ms/step - loss: 0.7432 - accuracy: 0.7394 - val_loss: 0.8961 - val_accuracy: 0.7128\n",
      "Epoch 81/100\n",
      "134/134 [==============================] - 86s 645ms/step - loss: 0.7457 - accuracy: 0.7390 - val_loss: 0.8536 - val_accuracy: 0.7184\n",
      "Epoch 82/100\n",
      "134/134 [==============================] - 84s 630ms/step - loss: 0.7386 - accuracy: 0.7423 - val_loss: 0.8897 - val_accuracy: 0.7123\n",
      "Epoch 83/100\n",
      "134/134 [==============================] - 86s 640ms/step - loss: 0.7367 - accuracy: 0.7445 - val_loss: 0.9350 - val_accuracy: 0.7037\n",
      "Epoch 84/100\n",
      "134/134 [==============================] - 85s 635ms/step - loss: 0.7367 - accuracy: 0.7423 - val_loss: 0.9119 - val_accuracy: 0.7056\n",
      "Epoch 85/100\n",
      "134/134 [==============================] - 86s 645ms/step - loss: 0.7268 - accuracy: 0.7465 - val_loss: 0.9180 - val_accuracy: 0.7064\n",
      "Epoch 86/100\n",
      "134/134 [==============================] - 88s 658ms/step - loss: 0.7253 - accuracy: 0.7473 - val_loss: 0.9132 - val_accuracy: 0.7065\n",
      "Epoch 87/100\n",
      "134/134 [==============================] - 89s 665ms/step - loss: 0.7286 - accuracy: 0.7473 - val_loss: 0.9057 - val_accuracy: 0.7106\n",
      "Epoch 88/100\n",
      "134/134 [==============================] - 85s 632ms/step - loss: 0.7186 - accuracy: 0.7476 - val_loss: 1.0597 - val_accuracy: 0.6774\n",
      "Epoch 89/100\n",
      "134/134 [==============================] - 88s 656ms/step - loss: 0.7167 - accuracy: 0.7494 - val_loss: 0.8914 - val_accuracy: 0.7206\n",
      "Epoch 90/100\n",
      "134/134 [==============================] - 91s 676ms/step - loss: 0.7114 - accuracy: 0.7512 - val_loss: 0.9267 - val_accuracy: 0.7057\n",
      "Epoch 91/100\n",
      "134/134 [==============================] - 89s 668ms/step - loss: 0.7076 - accuracy: 0.7540 - val_loss: 1.0175 - val_accuracy: 0.6935\n",
      "Epoch 92/100\n",
      "134/134 [==============================] - 88s 653ms/step - loss: 0.7076 - accuracy: 0.7539 - val_loss: 0.9485 - val_accuracy: 0.7039\n",
      "Epoch 93/100\n",
      "134/134 [==============================] - 88s 657ms/step - loss: 0.7028 - accuracy: 0.7547 - val_loss: 0.9673 - val_accuracy: 0.7024\n",
      "Epoch 94/100\n",
      "134/134 [==============================] - 88s 659ms/step - loss: 0.7049 - accuracy: 0.7548 - val_loss: 0.8820 - val_accuracy: 0.7180\n",
      "Epoch 95/100\n",
      "134/134 [==============================] - 90s 668ms/step - loss: 0.7000 - accuracy: 0.7570 - val_loss: 0.9295 - val_accuracy: 0.7118\n",
      "Epoch 96/100\n",
      "134/134 [==============================] - 87s 647ms/step - loss: 0.7000 - accuracy: 0.7574 - val_loss: 0.8317 - val_accuracy: 0.7283\n",
      "Epoch 97/100\n",
      "134/134 [==============================] - 88s 659ms/step - loss: 0.6978 - accuracy: 0.7570 - val_loss: 0.9300 - val_accuracy: 0.7111\n",
      "Epoch 98/100\n",
      "134/134 [==============================] - 88s 658ms/step - loss: 0.6884 - accuracy: 0.7600 - val_loss: 0.8746 - val_accuracy: 0.7237\n",
      "Epoch 99/100\n",
      "134/134 [==============================] - 87s 647ms/step - loss: 0.6868 - accuracy: 0.7580 - val_loss: 1.0325 - val_accuracy: 0.6875\n",
      "Epoch 100/100\n",
      "134/134 [==============================] - 88s 653ms/step - loss: 0.6873 - accuracy: 0.7603 - val_loss: 0.9086 - val_accuracy: 0.7122\n"
     ]
    }
   ],
   "source": [
    "model_checkpoint_callback = tf.keras.callbacks.ModelCheckpoint(\n",
    "    filepath='./checkpoint/',\n",
    "    save_weights_only=True,\n",
    "    save_freq='epoch')\n",
    "#    monitor='val_acc',\n",
    "#    mode='max',\n",
    "#    save_best_only=True)\n",
    "\n",
    "\n",
    "epochs = 100\n",
    "history = model.fit(\n",
    "  train_ds,\n",
    "  validation_data=val_ds,\n",
    "  epochs=epochs,\n",
    "  callbacks = [model_checkpoint_callback]\n",
    ")"
   ]
  },
  {
   "cell_type": "code",
   "execution_count": 17,
   "metadata": {},
   "outputs": [
    {
     "data": {
      "image/png": "[encoded data removed]",
      "text/plain": [
       "<Figure size 576x576 with 2 Axes>"
      ]
     },
     "metadata": {
      "needs_background": "light"
     },
     "output_type": "display_data"
    }
   ],
   "source": [
    "acc = history.history['accuracy']\n",
    "val_acc = history.history['val_accuracy']\n",
    "\n",
    "loss = history.history['loss']\n",
    "val_loss = history.history['val_loss']\n",
    "\n",
    "epochs_range = range(epochs)\n",
    "\n",
    "plt.figure(figsize=(8, 8))\n",
    "plt.subplot(1, 2, 1)\n",
    "plt.plot(epochs_range, acc, label='Training Accuracy')\n",
    "plt.plot(epochs_range, val_acc, label='Validation Accuracy')\n",
    "plt.legend(loc='lower right')\n",
    "plt.title('Training and Validation Accuracy')\n",
    "\n",
    "plt.subplot(1, 2, 2)\n",
    "plt.plot(epochs_range, loss, label='Training Loss')\n",
    "plt.plot(epochs_range, val_loss, label='Validation Loss')\n",
    "plt.legend(loc='upper right')\n",
    "plt.title('Training and Validation Loss')\n",
    "plt.show()"
   ]
  },
  {
   "cell_type": "code",
   "execution_count": 84,
   "metadata": {},
   "outputs": [
    {
     "name": "stdout",
     "output_type": "stream",
     "text": [
      "10000\n"
     ]
    }
   ],
   "source": [
    "test_data_dir=pathlib.Path('./test_imagess/')\n",
    "test_image_count = len(list(test_data_dir.glob('*.png')))\n",
    "print(test_image_count)\n",
    "\n",
    "onlyfiles = [f for f in os.listdir(test_data_dir) if os.path.isfile(os.path.join(test_data_dir, f))] # files to sort\n",
    "onlyfiles.sort(key=key)\n",
    "\n",
    "test_data_list = []\n",
    "    \n",
    "for i in range(test_image_count):\n",
    "    filepath = './test_imagess/' + onlyfiles[i]\n",
    "\n",
    "    img = keras.preprocessing.image.load_img(filepath, target_size=(img_height, img_width))\n",
    "    img_array = keras.preprocessing.image.img_to_array(img)\n",
    "    img_array = tf.expand_dims(img_array, 0) # Create a batch\n",
    "\n",
    "    test_data_list.append(img_array)\n",
    "        \n",
    "test_data = tf.data.Dataset.from_tensor_slices(test_data_list)"
   ]
  },
  {
   "cell_type": "code",
   "execution_count": 85,
   "metadata": {},
   "outputs": [],
   "source": [
    "predictions = model.predict(test_data)"
   ]
  },
  {
   "cell_type": "code",
   "execution_count": 99,
   "metadata": {},
   "outputs": [],
   "source": [
    "score = tf.nn.softmax(predictions)\n",
    "\n",
    "with open('predictions.txt','w') as newfile:\n",
    "    newfile.write('id,classes\\n')\n",
    "    for i in range(test_image_count):\n",
    "        newfile.write('{},{}\\n'.format(i,np.argmax(score[i])))"
   ]
  },
  {
   "cell_type": "code",
   "execution_count": null,
   "metadata": {},
   "outputs": [],
   "source": []
  }
 ],
 "metadata": {
  "kernelspec": {
   "display_name": "Python 3",
   "language": "python",
   "name": "python3"
  },
  "language_info": {
   "codemirror_mode": {
    "name": "ipython",
    "version": 3
   },
   "file_extension": ".py",
   "mimetype": "text/x-python",
   "name": "python",
   "nbconvert_exporter": "python",
   "pygments_lexer": "ipython3",
   "version": "3.8.3"
  }
 },
 "nbformat": 4,
 "nbformat_minor": 4
}
