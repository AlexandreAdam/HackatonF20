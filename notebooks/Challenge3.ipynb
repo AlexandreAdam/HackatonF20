{
 "cells": [
  {
   "cell_type": "code",
   "execution_count": 20,
   "metadata": {},
   "outputs": [],
   "source": [
    "from transformers import pipeline\n",
    "from transformers import BertTokenizer, TFBertModel\n",
    "import tensorflow as tf\n",
    "import numpy as np\n",
    "import pandas as pd\n",
    "import matplotlib.pyplot as plt\n",
    "from sklearn.preprocessing import LabelBinarizer\n",
    "import os"
   ]
  },
  {
   "cell_type": "code",
   "execution_count": 23,
   "metadata": {},
   "outputs": [
    {
     "name": "stderr",
     "output_type": "stream",
     "text": [
      "Some layers from the model checkpoint at distilbert-base-uncased-finetuned-sst-2-english were not used when initializing TFDistilBertModel: ['classifier', 'pre_classifier', 'dropout_19']\n",
      "- This IS expected if you are initializing TFDistilBertModel from the checkpoint of a model trained on another task or with another architecture (e.g. initializing a BertForSequenceClassification model from a BertForPreTraining model).\n",
      "- This IS NOT expected if you are initializing TFDistilBertModel from the checkpoint of a model that you expect to be exactly identical (initializing a BertForSequenceClassification model from a BertForSequenceClassification model).\n",
      "All the layers of TFDistilBertModel were initialized from the model checkpoint at distilbert-base-uncased-finetuned-sst-2-english.\n",
      "If your task is similar to the task the model of the checkpoint was trained on, you can already use TFDistilBertModel for predictions without further training.\n",
      "Some layers from the model checkpoint at distilbert-base-uncased-finetuned-sst-2-english were not used when initializing TFDistilBertForSequenceClassification: ['dropout_19']\n",
      "- This IS expected if you are initializing TFDistilBertForSequenceClassification from the checkpoint of a model trained on another task or with another architecture (e.g. initializing a BertForSequenceClassification model from a BertForPreTraining model).\n",
      "- This IS NOT expected if you are initializing TFDistilBertForSequenceClassification from the checkpoint of a model that you expect to be exactly identical (initializing a BertForSequenceClassification model from a BertForSequenceClassification model).\n",
      "Some layers of TFDistilBertForSequenceClassification were not initialized from the model checkpoint at distilbert-base-uncased-finetuned-sst-2-english and are newly initialized: ['dropout_194']\n",
      "You should probably TRAIN this model on a down-stream task to be able to use it for predictions and inference.\n"
     ]
    },
    {
     "data": {
      "application/vnd.jupyter.widget-view+json": {
       "model_id": "764a8ae0576a4fac9426f99675a410dc",
       "version_major": 2,
       "version_minor": 0
      },
      "text/plain": [
       "HBox(children=(FloatProgress(value=0.0, description='Downloading', max=433.0, style=ProgressStyle(description_…"
      ]
     },
     "metadata": {},
     "output_type": "display_data"
    },
    {
     "name": "stdout",
     "output_type": "stream",
     "text": [
      "\n"
     ]
    },
    {
     "data": {
      "application/vnd.jupyter.widget-view+json": {
       "model_id": "a4febe9101a948cd8ed3b78c50a33d26",
       "version_major": 2,
       "version_minor": 0
      },
      "text/plain": [
       "HBox(children=(FloatProgress(value=0.0, description='Downloading', max=536063208.0, style=ProgressStyle(descri…"
      ]
     },
     "metadata": {},
     "output_type": "display_data"
    },
    {
     "name": "stdout",
     "output_type": "stream",
     "text": [
      "\n"
     ]
    },
    {
     "name": "stderr",
     "output_type": "stream",
     "text": [
      "Some layers from the model checkpoint at bert-base-uncased were not used when initializing TFBertModel: ['nsp___cls', 'mlm___cls']\n",
      "- This IS expected if you are initializing TFBertModel from the checkpoint of a model trained on another task or with another architecture (e.g. initializing a BertForSequenceClassification model from a BertForPreTraining model).\n",
      "- This IS NOT expected if you are initializing TFBertModel from the checkpoint of a model that you expect to be exactly identical (initializing a BertForSequenceClassification model from a BertForSequenceClassification model).\n",
      "All the layers of TFBertModel were initialized from the model checkpoint at bert-base-uncased.\n",
      "If your task is similar to the task the model of the checkpoint was trained on, you can already use TFBertModel for predictions without further training.\n"
     ]
    }
   ],
   "source": [
    "datapath = \"../data/\"\n",
    "D_train= pd.read_csv(os.path.join(datapath, \"train.csv\"))\n",
    "D_test = pd.read_csv(os.path.join(datapath, \"submission.csv\"))\n",
    "\n",
    "classifier = pipeline('sentiment-analysis')\n",
    "tokenizer = BertTokenizer.from_pretrained('bert-base-uncased')\n",
    "model = TFBertModel.from_pretrained('bert-base-uncased', return_dict=True)\n",
    "# tokenizer 1=democrats, 0=Republican"
   ]
  },
  {
   "cell_type": "code",
   "execution_count": 13,
   "metadata": {},
   "outputs": [
    {
     "data": {
      "text/html": [
       "<div>\n",
       "<style scoped>\n",
       "    .dataframe tbody tr th:only-of-type {\n",
       "        vertical-align: middle;\n",
       "    }\n",
       "\n",
       "    .dataframe tbody tr th {\n",
       "        vertical-align: top;\n",
       "    }\n",
       "\n",
       "    .dataframe thead th {\n",
       "        text-align: right;\n",
       "    }\n",
       "</style>\n",
       "<table border=\"1\" class=\"dataframe\">\n",
       "  <thead>\n",
       "    <tr style=\"text-align: right;\">\n",
       "      <th></th>\n",
       "      <th>Unnamed: 0</th>\n",
       "      <th>Author</th>\n",
       "      <th>Body</th>\n",
       "      <th>Created</th>\n",
       "      <th>Post</th>\n",
       "      <th>Score</th>\n",
       "      <th>Subreddit</th>\n",
       "    </tr>\n",
       "  </thead>\n",
       "  <tbody>\n",
       "    <tr>\n",
       "      <th>0</th>\n",
       "      <td>0</td>\n",
       "      <td>BobSponge22</td>\n",
       "      <td>Even when there's 0 active cases, they'll stil...</td>\n",
       "      <td>1589775859</td>\n",
       "      <td>Democrats Have Abandoned Civil Liberties</td>\n",
       "      <td>1</td>\n",
       "      <td>Republican</td>\n",
       "    </tr>\n",
       "    <tr>\n",
       "      <th>1</th>\n",
       "      <td>1</td>\n",
       "      <td>MsWumpkins</td>\n",
       "      <td>Yup. It's awful.</td>\n",
       "      <td>1585607566</td>\n",
       "      <td>Donald Trump’s Briefing Snubbed, Critics No Lo...</td>\n",
       "      <td>2</td>\n",
       "      <td>democrats</td>\n",
       "    </tr>\n",
       "    <tr>\n",
       "      <th>2</th>\n",
       "      <td>2</td>\n",
       "      <td>mickey_patches</td>\n",
       "      <td>I agree with what you say, more or less, but I...</td>\n",
       "      <td>1485285435</td>\n",
       "      <td>Top Republican Says Balancing The Budget As Im...</td>\n",
       "      <td>3</td>\n",
       "      <td>Republican</td>\n",
       "    </tr>\n",
       "    <tr>\n",
       "      <th>3</th>\n",
       "      <td>3</td>\n",
       "      <td>sdrawkcabemanresu11</td>\n",
       "      <td>No. [Source](https://www.govtrack.us/congress/...</td>\n",
       "      <td>1493234043</td>\n",
       "      <td>House GOP health bill changes exempt members o...</td>\n",
       "      <td>39</td>\n",
       "      <td>Republican</td>\n",
       "    </tr>\n",
       "    <tr>\n",
       "      <th>4</th>\n",
       "      <td>4</td>\n",
       "      <td>Mhunterjr</td>\n",
       "      <td>Don't tell me which Rich, Racist, republic oli...</td>\n",
       "      <td>1581998270</td>\n",
       "      <td>Bloomberg is avoiding all scrutiny. It's time ...</td>\n",
       "      <td>4</td>\n",
       "      <td>democrats</td>\n",
       "    </tr>\n",
       "  </tbody>\n",
       "</table>\n",
       "</div>"
      ],
      "text/plain": [
       "   Unnamed: 0               Author  \\\n",
       "0           0          BobSponge22   \n",
       "1           1           MsWumpkins   \n",
       "2           2       mickey_patches   \n",
       "3           3  sdrawkcabemanresu11   \n",
       "4           4            Mhunterjr   \n",
       "\n",
       "                                                Body     Created  \\\n",
       "0  Even when there's 0 active cases, they'll stil...  1589775859   \n",
       "1                                   Yup. It's awful.  1585607566   \n",
       "2  I agree with what you say, more or less, but I...  1485285435   \n",
       "3  No. [Source](https://www.govtrack.us/congress/...  1493234043   \n",
       "4  Don't tell me which Rich, Racist, republic oli...  1581998270   \n",
       "\n",
       "                                                Post  Score   Subreddit  \n",
       "0           Democrats Have Abandoned Civil Liberties      1  Republican  \n",
       "1  Donald Trump’s Briefing Snubbed, Critics No Lo...      2   democrats  \n",
       "2  Top Republican Says Balancing The Budget As Im...      3  Republican  \n",
       "3  House GOP health bill changes exempt members o...     39  Republican  \n",
       "4  Bloomberg is avoiding all scrutiny. It's time ...      4   democrats  "
      ]
     },
     "execution_count": 13,
     "metadata": {},
     "output_type": "execute_result"
    }
   ],
   "source": [
    "D_train.head()"
   ]
  },
  {
   "cell_type": "code",
   "execution_count": 53,
   "metadata": {},
   "outputs": [
    {
     "data": {
      "text/html": [
       "<div>\n",
       "<style scoped>\n",
       "    .dataframe tbody tr th:only-of-type {\n",
       "        vertical-align: middle;\n",
       "    }\n",
       "\n",
       "    .dataframe tbody tr th {\n",
       "        vertical-align: top;\n",
       "    }\n",
       "\n",
       "    .dataframe thead th {\n",
       "        text-align: right;\n",
       "    }\n",
       "</style>\n",
       "<table border=\"1\" class=\"dataframe\">\n",
       "  <thead>\n",
       "    <tr style=\"text-align: right;\">\n",
       "      <th></th>\n",
       "      <th>Unnamed: 0</th>\n",
       "      <th>Author</th>\n",
       "      <th>Body</th>\n",
       "      <th>Created</th>\n",
       "      <th>Post</th>\n",
       "      <th>Score</th>\n",
       "    </tr>\n",
       "  </thead>\n",
       "  <tbody>\n",
       "    <tr>\n",
       "      <th>3969</th>\n",
       "      <td>3969</td>\n",
       "      <td>BobSponge22</td>\n",
       "      <td>Most of these \"experts\" you speak of, don't ev...</td>\n",
       "      <td>1589816509</td>\n",
       "      <td>Coronavirus Isn't Nearly as Deadly as We Thoug...</td>\n",
       "      <td>1</td>\n",
       "    </tr>\n",
       "    <tr>\n",
       "      <th>6781</th>\n",
       "      <td>6781</td>\n",
       "      <td>BobSponge22</td>\n",
       "      <td>Let's stop talking about Colorado. What about ...</td>\n",
       "      <td>1589826772</td>\n",
       "      <td>So Far, No Spike in Coronavirus in Places Reop...</td>\n",
       "      <td>0</td>\n",
       "    </tr>\n",
       "    <tr>\n",
       "      <th>15563</th>\n",
       "      <td>15563</td>\n",
       "      <td>BobSponge22</td>\n",
       "      <td>Some states, like Colorado, opened up 3 weeks ...</td>\n",
       "      <td>1589776174</td>\n",
       "      <td>So Far, No Spike in Coronavirus in Places Reop...</td>\n",
       "      <td>2</td>\n",
       "    </tr>\n",
       "    <tr>\n",
       "      <th>17769</th>\n",
       "      <td>17769</td>\n",
       "      <td>BobSponge22</td>\n",
       "      <td>How convenient.</td>\n",
       "      <td>1589836868</td>\n",
       "      <td>So Far, No Spike in Coronavirus in Places Reop...</td>\n",
       "      <td>0</td>\n",
       "    </tr>\n",
       "    <tr>\n",
       "      <th>22053</th>\n",
       "      <td>22053</td>\n",
       "      <td>BobSponge22</td>\n",
       "      <td>No state has completely opened up yet. What do...</td>\n",
       "      <td>1589825635</td>\n",
       "      <td>So Far, No Spike in Coronavirus in Places Reop...</td>\n",
       "      <td>1</td>\n",
       "    </tr>\n",
       "    <tr>\n",
       "      <th>23101</th>\n",
       "      <td>23101</td>\n",
       "      <td>BobSponge22</td>\n",
       "      <td>They opened hair salons.</td>\n",
       "      <td>1589823459</td>\n",
       "      <td>So Far, No Spike in Coronavirus in Places Reop...</td>\n",
       "      <td>1</td>\n",
       "    </tr>\n",
       "    <tr>\n",
       "      <th>26796</th>\n",
       "      <td>26796</td>\n",
       "      <td>BobSponge22</td>\n",
       "      <td>I didn't say COMPLETELY reopened! No state has...</td>\n",
       "      <td>1589827312</td>\n",
       "      <td>So Far, No Spike in Coronavirus in Places Reop...</td>\n",
       "      <td>0</td>\n",
       "    </tr>\n",
       "    <tr>\n",
       "      <th>30395</th>\n",
       "      <td>30395</td>\n",
       "      <td>BobSponge22</td>\n",
       "      <td>I agree with this. It was one person for cryin...</td>\n",
       "      <td>1590811295</td>\n",
       "      <td>I get why they’re mad but violence isn’t the a...</td>\n",
       "      <td>3</td>\n",
       "    </tr>\n",
       "    <tr>\n",
       "      <th>38856</th>\n",
       "      <td>38856</td>\n",
       "      <td>BobSponge22</td>\n",
       "      <td>49 must be Trump's unlucky number. It's been s...</td>\n",
       "      <td>1589825925</td>\n",
       "      <td>Trump's approval rating soars during handling ...</td>\n",
       "      <td>1</td>\n",
       "    </tr>\n",
       "    <tr>\n",
       "      <th>59098</th>\n",
       "      <td>59098</td>\n",
       "      <td>BobSponge22</td>\n",
       "      <td>I asked my question first. You answer first.</td>\n",
       "      <td>1589836831</td>\n",
       "      <td>Coronavirus Isn't Nearly as Deadly as We Thoug...</td>\n",
       "      <td>1</td>\n",
       "    </tr>\n",
       "    <tr>\n",
       "      <th>64284</th>\n",
       "      <td>64284</td>\n",
       "      <td>BobSponge22</td>\n",
       "      <td>Answer the question.</td>\n",
       "      <td>1589829472</td>\n",
       "      <td>Coronavirus Isn't Nearly as Deadly as We Thoug...</td>\n",
       "      <td>1</td>\n",
       "    </tr>\n",
       "    <tr>\n",
       "      <th>69745</th>\n",
       "      <td>69745</td>\n",
       "      <td>BobSponge22</td>\n",
       "      <td>It doesn't matter. The cases aren't rising in ...</td>\n",
       "      <td>1589824301</td>\n",
       "      <td>So Far, No Spike in Coronavirus in Places Reop...</td>\n",
       "      <td>1</td>\n",
       "    </tr>\n",
       "  </tbody>\n",
       "</table>\n",
       "</div>"
      ],
      "text/plain": [
       "       Unnamed: 0       Author  \\\n",
       "3969         3969  BobSponge22   \n",
       "6781         6781  BobSponge22   \n",
       "15563       15563  BobSponge22   \n",
       "17769       17769  BobSponge22   \n",
       "22053       22053  BobSponge22   \n",
       "23101       23101  BobSponge22   \n",
       "26796       26796  BobSponge22   \n",
       "30395       30395  BobSponge22   \n",
       "38856       38856  BobSponge22   \n",
       "59098       59098  BobSponge22   \n",
       "64284       64284  BobSponge22   \n",
       "69745       69745  BobSponge22   \n",
       "\n",
       "                                                    Body     Created  \\\n",
       "3969   Most of these \"experts\" you speak of, don't ev...  1589816509   \n",
       "6781   Let's stop talking about Colorado. What about ...  1589826772   \n",
       "15563  Some states, like Colorado, opened up 3 weeks ...  1589776174   \n",
       "17769                                    How convenient.  1589836868   \n",
       "22053  No state has completely opened up yet. What do...  1589825635   \n",
       "23101                           They opened hair salons.  1589823459   \n",
       "26796  I didn't say COMPLETELY reopened! No state has...  1589827312   \n",
       "30395  I agree with this. It was one person for cryin...  1590811295   \n",
       "38856  49 must be Trump's unlucky number. It's been s...  1589825925   \n",
       "59098       I asked my question first. You answer first.  1589836831   \n",
       "64284                               Answer the question.  1589829472   \n",
       "69745  It doesn't matter. The cases aren't rising in ...  1589824301   \n",
       "\n",
       "                                                    Post  Score  \n",
       "3969   Coronavirus Isn't Nearly as Deadly as We Thoug...      1  \n",
       "6781   So Far, No Spike in Coronavirus in Places Reop...      0  \n",
       "15563  So Far, No Spike in Coronavirus in Places Reop...      2  \n",
       "17769  So Far, No Spike in Coronavirus in Places Reop...      0  \n",
       "22053  So Far, No Spike in Coronavirus in Places Reop...      1  \n",
       "23101  So Far, No Spike in Coronavirus in Places Reop...      1  \n",
       "26796  So Far, No Spike in Coronavirus in Places Reop...      0  \n",
       "30395  I get why they’re mad but violence isn’t the a...      3  \n",
       "38856  Trump's approval rating soars during handling ...      1  \n",
       "59098  Coronavirus Isn't Nearly as Deadly as We Thoug...      1  \n",
       "64284  Coronavirus Isn't Nearly as Deadly as We Thoug...      1  \n",
       "69745  So Far, No Spike in Coronavirus in Places Reop...      1  "
      ]
     },
     "execution_count": 53,
     "metadata": {},
     "output_type": "execute_result"
    }
   ],
   "source": [
    "D_train[[\"Author\", \"Subreddit\"]][D_train.Author == \"Mhunterjr\"]\n",
    "D_test[D_test.Author == \"BobSponge22\"]"
   ]
  },
  {
   "cell_type": "markdown",
   "metadata": {},
   "source": [
    "# Pre-processing"
   ]
  },
  {
   "cell_type": "code",
   "execution_count": 24,
   "metadata": {},
   "outputs": [],
   "source": [
    "D_train[\"label\"] = LabelBinarizer().fit_transform(D_train[\"Subreddit\"])"
   ]
  },
  {
   "cell_type": "code",
   "execution_count": 43,
   "metadata": {},
   "outputs": [],
   "source": [
    "tokens = tokenizer(D_train.Post.to_list())"
   ]
  },
  {
   "cell_type": "code",
   "execution_count": 35,
   "metadata": {},
   "outputs": [
    {
     "data": {
      "text/plain": [
       "'Donald Trump’s Briefing Snubbed, Critics No Longer Want To See POTUS’ Conferences'"
      ]
     },
     "execution_count": 35,
     "metadata": {},
     "output_type": "execute_result"
    }
   ],
   "source": [
    "D_train.Post[1]"
   ]
  },
  {
   "cell_type": "code",
   "execution_count": null,
   "metadata": {},
   "outputs": [],
   "source": [
    "inputs = tokenizer(D_train[], return_tensors=\"tf\")"
   ]
  }
 ],
 "metadata": {
  "kernelspec": {
   "display_name": "Python 3",
   "language": "python",
   "name": "python3"
  },
  "language_info": {
   "codemirror_mode": {
    "name": "ipython",
    "version": 3
   },
   "file_extension": ".py",
   "mimetype": "text/x-python",
   "name": "python",
   "nbconvert_exporter": "python",
   "pygments_lexer": "ipython3",
   "version": "3.7.6"
  }
 },
 "nbformat": 4,
 "nbformat_minor": 4
}
