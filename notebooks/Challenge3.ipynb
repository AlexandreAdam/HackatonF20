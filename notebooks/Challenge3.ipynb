{
 "cells": [
  {
   "cell_type": "code",
   "execution_count": 75,
   "metadata": {},
   "outputs": [],
   "source": [
    "from transformers import pipeline\n",
    "from transformers import BertTokenizer, TFBertModel\n",
    "import tensorflow as tf\n",
    "import numpy as np\n",
    "import pandas as pd\n",
    "import matplotlib.pyplot as plt\n",
    "from sklearn.preprocessing import LabelBinarizer\n",
    "import seaborn as sns\n",
    "import os\n",
    "from sklearn.linear_model import LogisticRegression\n",
    "from sklearn.metrics import f1_score\n",
    "from sklearn.model_selection import train_test_split"
   ]
  },
  {
   "cell_type": "code",
   "execution_count": 2,
   "metadata": {},
   "outputs": [],
   "source": [
    "datapath = \"../data/\"\n",
    "D_train= pd.read_csv(os.path.join(datapath, \"challenge3/train.csv\"))\n",
    "D_test = pd.read_csv(os.path.join(datapath, \"challenge3/submission.csv\"))\n",
    "# tokenizer 1=democrats, 0=Republican"
   ]
  },
  {
   "cell_type": "code",
   "execution_count": 25,
   "metadata": {},
   "outputs": [
    {
     "name": "stderr",
     "output_type": "stream",
     "text": [
      "Some layers from the model checkpoint at distilbert-base-uncased-finetuned-sst-2-english were not used when initializing TFDistilBertModel: ['classifier', 'dropout_19', 'pre_classifier']\n",
      "- This IS expected if you are initializing TFDistilBertModel from the checkpoint of a model trained on another task or with another architecture (e.g. initializing a BertForSequenceClassification model from a BertForPreTraining model).\n",
      "- This IS NOT expected if you are initializing TFDistilBertModel from the checkpoint of a model that you expect to be exactly identical (initializing a BertForSequenceClassification model from a BertForSequenceClassification model).\n",
      "All the layers of TFDistilBertModel were initialized from the model checkpoint at distilbert-base-uncased-finetuned-sst-2-english.\n",
      "If your task is similar to the task the model of the checkpoint was trained on, you can already use TFDistilBertModel for predictions without further training.\n",
      "Some layers from the model checkpoint at distilbert-base-uncased-finetuned-sst-2-english were not used when initializing TFDistilBertForSequenceClassification: ['dropout_19']\n",
      "- This IS expected if you are initializing TFDistilBertForSequenceClassification from the checkpoint of a model trained on another task or with another architecture (e.g. initializing a BertForSequenceClassification model from a BertForPreTraining model).\n",
      "- This IS NOT expected if you are initializing TFDistilBertForSequenceClassification from the checkpoint of a model that you expect to be exactly identical (initializing a BertForSequenceClassification model from a BertForSequenceClassification model).\n",
      "Some layers of TFDistilBertForSequenceClassification were not initialized from the model checkpoint at distilbert-base-uncased-finetuned-sst-2-english and are newly initialized: ['dropout_77']\n",
      "You should probably TRAIN this model on a down-stream task to be able to use it for predictions and inference.\n"
     ]
    }
   ],
   "source": [
    "classifier = pipeline('sentiment-analysis')\n",
    "# tokenizer = BertTokenizer.from_pretrained('bert-base-uncased')\n",
    "# model = TFBertModel.from_pretrained('bert-base-uncased', return_dict=True)"
   ]
  },
  {
   "cell_type": "code",
   "execution_count": 26,
   "metadata": {},
   "outputs": [],
   "source": [
    "# summarizer = pipeline('summarization')"
   ]
  },
  {
   "cell_type": "code",
   "execution_count": 27,
   "metadata": {},
   "outputs": [],
   "source": [
    "# ner = pipeline(\"ner\")"
   ]
  },
  {
   "cell_type": "code",
   "execution_count": 28,
   "metadata": {},
   "outputs": [
    {
     "data": {
      "text/html": [
       "<div>\n",
       "<style scoped>\n",
       "    .dataframe tbody tr th:only-of-type {\n",
       "        vertical-align: middle;\n",
       "    }\n",
       "\n",
       "    .dataframe tbody tr th {\n",
       "        vertical-align: top;\n",
       "    }\n",
       "\n",
       "    .dataframe thead th {\n",
       "        text-align: right;\n",
       "    }\n",
       "</style>\n",
       "<table border=\"1\" class=\"dataframe\">\n",
       "  <thead>\n",
       "    <tr style=\"text-align: right;\">\n",
       "      <th></th>\n",
       "      <th>Unnamed: 0</th>\n",
       "      <th>Author</th>\n",
       "      <th>Body</th>\n",
       "      <th>Created</th>\n",
       "      <th>Post</th>\n",
       "      <th>Score</th>\n",
       "      <th>Subreddit</th>\n",
       "      <th>label</th>\n",
       "      <th>Body_Sentiment</th>\n",
       "    </tr>\n",
       "  </thead>\n",
       "  <tbody>\n",
       "    <tr>\n",
       "      <th>0</th>\n",
       "      <td>0</td>\n",
       "      <td>BobSponge22</td>\n",
       "      <td>Even when there's 0 active cases, they'll stil...</td>\n",
       "      <td>1589775859</td>\n",
       "      <td>Democrats Have Abandoned Civil Liberties</td>\n",
       "      <td>1</td>\n",
       "      <td>Republican</td>\n",
       "      <td>0</td>\n",
       "      <td>0.0</td>\n",
       "    </tr>\n",
       "    <tr>\n",
       "      <th>1</th>\n",
       "      <td>1</td>\n",
       "      <td>MsWumpkins</td>\n",
       "      <td>Yup. It's awful.</td>\n",
       "      <td>1585607566</td>\n",
       "      <td>Donald Trump’s Briefing Snubbed, Critics No Lo...</td>\n",
       "      <td>2</td>\n",
       "      <td>democrats</td>\n",
       "      <td>1</td>\n",
       "      <td>0.0</td>\n",
       "    </tr>\n",
       "    <tr>\n",
       "      <th>2</th>\n",
       "      <td>2</td>\n",
       "      <td>mickey_patches</td>\n",
       "      <td>I agree with what you say, more or less, but I...</td>\n",
       "      <td>1485285435</td>\n",
       "      <td>Top Republican Says Balancing The Budget As Im...</td>\n",
       "      <td>3</td>\n",
       "      <td>Republican</td>\n",
       "      <td>0</td>\n",
       "      <td>0.0</td>\n",
       "    </tr>\n",
       "    <tr>\n",
       "      <th>3</th>\n",
       "      <td>3</td>\n",
       "      <td>sdrawkcabemanresu11</td>\n",
       "      <td>No. [Source](https://www.govtrack.us/congress/...</td>\n",
       "      <td>1493234043</td>\n",
       "      <td>House GOP health bill changes exempt members o...</td>\n",
       "      <td>39</td>\n",
       "      <td>Republican</td>\n",
       "      <td>0</td>\n",
       "      <td>0.0</td>\n",
       "    </tr>\n",
       "    <tr>\n",
       "      <th>4</th>\n",
       "      <td>4</td>\n",
       "      <td>Mhunterjr</td>\n",
       "      <td>Don't tell me which Rich, Racist, republic oli...</td>\n",
       "      <td>1581998270</td>\n",
       "      <td>Bloomberg is avoiding all scrutiny. It's time ...</td>\n",
       "      <td>4</td>\n",
       "      <td>democrats</td>\n",
       "      <td>1</td>\n",
       "      <td>0.0</td>\n",
       "    </tr>\n",
       "  </tbody>\n",
       "</table>\n",
       "</div>"
      ],
      "text/plain": [
       "   Unnamed: 0               Author  \\\n",
       "0           0          BobSponge22   \n",
       "1           1           MsWumpkins   \n",
       "2           2       mickey_patches   \n",
       "3           3  sdrawkcabemanresu11   \n",
       "4           4            Mhunterjr   \n",
       "\n",
       "                                                Body     Created  \\\n",
       "0  Even when there's 0 active cases, they'll stil...  1589775859   \n",
       "1                                   Yup. It's awful.  1585607566   \n",
       "2  I agree with what you say, more or less, but I...  1485285435   \n",
       "3  No. [Source](https://www.govtrack.us/congress/...  1493234043   \n",
       "4  Don't tell me which Rich, Racist, republic oli...  1581998270   \n",
       "\n",
       "                                                Post  Score   Subreddit  \\\n",
       "0           Democrats Have Abandoned Civil Liberties      1  Republican   \n",
       "1  Donald Trump’s Briefing Snubbed, Critics No Lo...      2   democrats   \n",
       "2  Top Republican Says Balancing The Budget As Im...      3  Republican   \n",
       "3  House GOP health bill changes exempt members o...     39  Republican   \n",
       "4  Bloomberg is avoiding all scrutiny. It's time ...      4   democrats   \n",
       "\n",
       "   label  Body_Sentiment  \n",
       "0      0             0.0  \n",
       "1      1             0.0  \n",
       "2      0             0.0  \n",
       "3      0             0.0  \n",
       "4      1             0.0  "
      ]
     },
     "execution_count": 28,
     "metadata": {},
     "output_type": "execute_result"
    }
   ],
   "source": [
    "D_train.head()"
   ]
  },
  {
   "cell_type": "markdown",
   "metadata": {},
   "source": [
    "# Pre-processing"
   ]
  },
  {
   "cell_type": "code",
   "execution_count": 29,
   "metadata": {},
   "outputs": [],
   "source": [
    "D_train[\"label\"] = LabelBinarizer().fit_transform(D_train[\"Subreddit\"])"
   ]
  },
  {
   "cell_type": "code",
   "execution_count": 30,
   "metadata": {},
   "outputs": [],
   "source": [
    "# tokens = tokenizer(D_train.Post.to_list())"
   ]
  },
  {
   "cell_type": "code",
   "execution_count": 31,
   "metadata": {},
   "outputs": [
    {
     "data": {
      "text/plain": [
       "'Donald Trump’s Briefing Snubbed, Critics No Longer Want To See POTUS’ Conferences'"
      ]
     },
     "execution_count": 31,
     "metadata": {},
     "output_type": "execute_result"
    }
   ],
   "source": [
    "D_train.Post[1]"
   ]
  },
  {
   "cell_type": "code",
   "execution_count": 32,
   "metadata": {},
   "outputs": [
    {
     "data": {
      "text/plain": [
       "<matplotlib.axes._subplots.AxesSubplot at 0x7f99e45a18d0>"
      ]
     },
     "execution_count": 32,
     "metadata": {},
     "output_type": "execute_result"
    },
    {
     "data": {
      "image/png": "[encoded data removed]",
      "text/plain": [
       "<Figure size 432x288 with 1 Axes>"
      ]
     },
     "metadata": {
      "needs_background": "light"
     },
     "output_type": "display_data"
    }
   ],
   "source": [
    "sns.histplot(D_train[[\"Author\", \"label\"]].groupby([\"Author\"]).mean(), x=\"label\")"
   ]
  },
  {
   "cell_type": "code",
   "execution_count": 33,
   "metadata": {},
   "outputs": [
    {
     "data": {
      "text/plain": [
       "<matplotlib.axes._subplots.AxesSubplot at 0x7f99ec2ba910>"
      ]
     },
     "execution_count": 33,
     "metadata": {},
     "output_type": "execute_result"
    },
    {
     "data": {
      "image/png": "[encoded data removed]",
      "text/plain": [
       "<Figure size 432x288 with 1 Axes>"
      ]
     },
     "metadata": {
      "needs_background": "light"
     },
     "output_type": "display_data"
    }
   ],
   "source": [
    "sns.histplot(D_train[[\"Author\", \"Score\", \"label\"]].groupby([\"Author\", \"label\"]).mean(), x=\"Score\", hue=\"label\")"
   ]
  },
  {
   "cell_type": "code",
   "execution_count": 34,
   "metadata": {},
   "outputs": [
    {
     "data": {
      "text/plain": [
       "[{'label': 'POSITIVE', 'score': 0.9973351359367371}]"
      ]
     },
     "execution_count": 34,
     "metadata": {},
     "output_type": "execute_result"
    }
   ],
   "source": [
    "classifier(D_train.Post[15045])"
   ]
  },
  {
   "cell_type": "code",
   "execution_count": 35,
   "metadata": {},
   "outputs": [
    {
     "data": {
      "text/plain": [
       "'Rihanna Hits Trump: ‘I’m Trying To Save The World, Unlike Y’all President’'"
      ]
     },
     "execution_count": 35,
     "metadata": {},
     "output_type": "execute_result"
    }
   ],
   "source": [
    "D_train.Post[15045]"
   ]
  },
  {
   "cell_type": "code",
   "execution_count": 36,
   "metadata": {},
   "outputs": [
    {
     "data": {
      "text/plain": [
       "'Republican'"
      ]
     },
     "execution_count": 36,
     "metadata": {},
     "output_type": "execute_result"
    }
   ],
   "source": [
    "D_train.Subreddit[15045]"
   ]
  },
  {
   "cell_type": "code",
   "execution_count": 37,
   "metadata": {},
   "outputs": [],
   "source": [
    "# author_train = D_train[[\"Author\", \"label\"]].groupby(\"Author\").mean()\n",
    "author_train = set(D_train[\"Author\"].unique())\n",
    "author_test = set(D_test[\"Author\"].unique())"
   ]
  },
  {
   "cell_type": "code",
   "execution_count": 38,
   "metadata": {},
   "outputs": [],
   "source": [
    "unknown_authors = author_test.difference(author_train)\n",
    "# unknown_authors"
   ]
  },
  {
   "cell_type": "code",
   "execution_count": 39,
   "metadata": {},
   "outputs": [
    {
     "data": {
      "text/plain": [
       "5784"
      ]
     },
     "execution_count": 39,
     "metadata": {},
     "output_type": "execute_result"
    }
   ],
   "source": [
    "len(unknown_authors)"
   ]
  },
  {
   "cell_type": "code",
   "execution_count": 40,
   "metadata": {},
   "outputs": [
    {
     "data": {
      "text/plain": [
       "32706"
      ]
     },
     "execution_count": 40,
     "metadata": {},
     "output_type": "execute_result"
    }
   ],
   "source": [
    "len(author_train)"
   ]
  },
  {
   "cell_type": "code",
   "execution_count": 41,
   "metadata": {},
   "outputs": [
    {
     "data": {
      "text/plain": [
       "212052"
      ]
     },
     "execution_count": 41,
     "metadata": {},
     "output_type": "execute_result"
    }
   ],
   "source": [
    "len(D_train)"
   ]
  },
  {
   "cell_type": "code",
   "execution_count": 42,
   "metadata": {},
   "outputs": [
    {
     "data": {
      "text/plain": [
       "79707"
      ]
     },
     "execution_count": 42,
     "metadata": {},
     "output_type": "execute_result"
    }
   ],
   "source": [
    "len(D_test)"
   ]
  },
  {
   "cell_type": "code",
   "execution_count": 50,
   "metadata": {},
   "outputs": [],
   "source": [
    "author_map = D_train[[\"Author\", \"label\"]].groupby(\"Author\").mean()\n",
    "unknown = pd.DataFrame.from_dict({key: [-1] for key in unknown_authors}).T\n",
    "unknown.columns = [\"label\"]\n",
    "author_map = pd.concat([author_map, unknown])"
   ]
  },
  {
   "cell_type": "code",
   "execution_count": 51,
   "metadata": {},
   "outputs": [],
   "source": [
    "author_map = author_map.to_dict()[\"label\"]\n",
    "D_test[\"feature1\"] = D_test[\"Author\"].map(author_map)\n",
    "D_train[\"feature1\"] = D_train[\"Author\"].map(author_map)\n"
   ]
  },
  {
   "cell_type": "code",
   "execution_count": 52,
   "metadata": {},
   "outputs": [
    {
     "name": "stderr",
     "output_type": "stream",
     "text": [
      "/home/alexandre/anaconda3/lib/python3.7/site-packages/ipykernel_launcher.py:1: SettingWithCopyWarning: \n",
      "A value is trying to be set on a copy of a slice from a DataFrame\n",
      "\n",
      "See the caveats in the documentation: https://pandas.pydata.org/pandas-docs/stable/user_guide/indexing.html#returning-a-view-versus-a-copy\n",
      "  \"\"\"Entry point for launching an IPython kernel.\n",
      "/home/alexandre/anaconda3/lib/python3.7/site-packages/ipykernel_launcher.py:2: SettingWithCopyWarning: \n",
      "A value is trying to be set on a copy of a slice from a DataFrame\n",
      "\n",
      "See the caveats in the documentation: https://pandas.pydata.org/pandas-docs/stable/user_guide/indexing.html#returning-a-view-versus-a-copy\n",
      "  \n"
     ]
    },
    {
     "data": {
      "text/html": [
       "<div>\n",
       "<style scoped>\n",
       "    .dataframe tbody tr th:only-of-type {\n",
       "        vertical-align: middle;\n",
       "    }\n",
       "\n",
       "    .dataframe tbody tr th {\n",
       "        vertical-align: top;\n",
       "    }\n",
       "\n",
       "    .dataframe thead th {\n",
       "        text-align: right;\n",
       "    }\n",
       "</style>\n",
       "<table border=\"1\" class=\"dataframe\">\n",
       "  <thead>\n",
       "    <tr style=\"text-align: right;\">\n",
       "      <th></th>\n",
       "      <th>Unnamed: 0</th>\n",
       "      <th>Author</th>\n",
       "      <th>Body</th>\n",
       "      <th>Created</th>\n",
       "      <th>Post</th>\n",
       "      <th>Score</th>\n",
       "      <th>feature1</th>\n",
       "      <th>Body_Sentiment</th>\n",
       "    </tr>\n",
       "  </thead>\n",
       "  <tbody>\n",
       "    <tr>\n",
       "      <th>0</th>\n",
       "      <td>0</td>\n",
       "      <td>Picklesadog</td>\n",
       "      <td>And my argument is that the majority of democr...</td>\n",
       "      <td>1501799501</td>\n",
       "      <td>Poll: McCain more popular with Democrats than ...</td>\n",
       "      <td>1</td>\n",
       "      <td>0.0</td>\n",
       "      <td>0.0</td>\n",
       "    </tr>\n",
       "    <tr>\n",
       "      <th>1</th>\n",
       "      <td>1</td>\n",
       "      <td>NaN</td>\n",
       "      <td>I’m not necessarily disagreeing with you but d...</td>\n",
       "      <td>1590457879</td>\n",
       "      <td>Paying Illegal Immigrants Puts America Last</td>\n",
       "      <td>1</td>\n",
       "      <td>-1.0</td>\n",
       "      <td>0.0</td>\n",
       "    </tr>\n",
       "    <tr>\n",
       "      <th>2</th>\n",
       "      <td>2</td>\n",
       "      <td>Stunkstank</td>\n",
       "      <td>That’s not how the constitution works. Are you...</td>\n",
       "      <td>1523294396</td>\n",
       "      <td>Is Gun Ownership a Right?</td>\n",
       "      <td>1</td>\n",
       "      <td>0.0</td>\n",
       "      <td>0.0</td>\n",
       "    </tr>\n",
       "    <tr>\n",
       "      <th>3</th>\n",
       "      <td>3</td>\n",
       "      <td>viverator</td>\n",
       "      <td>Johnny five need input.</td>\n",
       "      <td>1587698971</td>\n",
       "      <td>“Senate Republicans slipped a tax break for we...</td>\n",
       "      <td>1</td>\n",
       "      <td>0.0</td>\n",
       "      <td>0.0</td>\n",
       "    </tr>\n",
       "    <tr>\n",
       "      <th>4</th>\n",
       "      <td>4</td>\n",
       "      <td>Broke_Poetry</td>\n",
       "      <td>Their jobs and pensions are being threatened o...</td>\n",
       "      <td>1598166788</td>\n",
       "      <td>Washington Postal Workers Defy USPS Orders And...</td>\n",
       "      <td>3</td>\n",
       "      <td>-1.0</td>\n",
       "      <td>0.0</td>\n",
       "    </tr>\n",
       "  </tbody>\n",
       "</table>\n",
       "</div>"
      ],
      "text/plain": [
       "   Unnamed: 0        Author  \\\n",
       "0           0   Picklesadog   \n",
       "1           1           NaN   \n",
       "2           2    Stunkstank   \n",
       "3           3     viverator   \n",
       "4           4  Broke_Poetry   \n",
       "\n",
       "                                                Body     Created  \\\n",
       "0  And my argument is that the majority of democr...  1501799501   \n",
       "1  I’m not necessarily disagreeing with you but d...  1590457879   \n",
       "2  That’s not how the constitution works. Are you...  1523294396   \n",
       "3                            Johnny five need input.  1587698971   \n",
       "4  Their jobs and pensions are being threatened o...  1598166788   \n",
       "\n",
       "                                                Post  Score  feature1  \\\n",
       "0  Poll: McCain more popular with Democrats than ...      1       0.0   \n",
       "1        Paying Illegal Immigrants Puts America Last      1      -1.0   \n",
       "2                          Is Gun Ownership a Right?      1       0.0   \n",
       "3  “Senate Republicans slipped a tax break for we...      1       0.0   \n",
       "4  Washington Postal Workers Defy USPS Orders And...      3      -1.0   \n",
       "\n",
       "   Body_Sentiment  \n",
       "0             0.0  \n",
       "1             0.0  \n",
       "2             0.0  \n",
       "3             0.0  \n",
       "4             0.0  "
      ]
     },
     "execution_count": 52,
     "metadata": {},
     "output_type": "execute_result"
    }
   ],
   "source": [
    "D_test[\"feature1\"][D_test[\"feature1\"].isna() == True] = -1\n",
    "D_train[\"feature1\"][D_train[\"feature1\"].isna()] = -1\n",
    "D_test.head()"
   ]
  },
  {
   "cell_type": "code",
   "execution_count": 46,
   "metadata": {},
   "outputs": [
    {
     "name": "stderr",
     "output_type": "stream",
     "text": [
      "/home/alexandre/anaconda3/lib/python3.7/site-packages/ipykernel_launcher.py:3: SettingWithCopyWarning: \n",
      "A value is trying to be set on a copy of a slice from a DataFrame\n",
      "\n",
      "See the caveats in the documentation: https://pandas.pydata.org/pandas-docs/stable/user_guide/indexing.html#returning-a-view-versus-a-copy\n",
      "  This is separate from the ipykernel package so we can avoid doing imports until\n",
      "/home/alexandre/anaconda3/lib/python3.7/site-packages/ipykernel_launcher.py:4: SettingWithCopyWarning: \n",
      "A value is trying to be set on a copy of a slice from a DataFrame\n",
      "\n",
      "See the caveats in the documentation: https://pandas.pydata.org/pandas-docs/stable/user_guide/indexing.html#returning-a-view-versus-a-copy\n",
      "  after removing the cwd from sys.path.\n"
     ]
    }
   ],
   "source": [
    "D_train[\"Body_Sentiment\"] = np.zeros(len(D_train))\n",
    "D_test[\"Body_Sentiment\"] = np.zeros(len(D_test))\n",
    "D_train[\"Body_Sentiment\"][D_train[\"Body\"].isna()] = -1\n",
    "D_test[\"Body_Sentiment\"][D_test[\"Body\"].isna()] = -1"
   ]
  },
  {
   "cell_type": "code",
   "execution_count": 47,
   "metadata": {},
   "outputs": [],
   "source": [
    "# train_sentiment_data = D_train[\"Body\"][~D_train[\"Body\"].isna()].to_list()\n",
    "# body_sentiment_train = []\n",
    "# body_sentiment_test = []\n",
    "# # train\n",
    "# batch = len(D_train)//10000\n",
    "# print(batch)\n",
    "# for t in range(batch):\n",
    "#     body_sentiment_train.append(classifier(train_sentiment_data[t * batch: (t + 1) * batch]))\n",
    "#     print(t)\n",
    "# body_sentiment_train = classifier()\n",
    "# body_sentiment_test = classifier(D_train[\"Body\"][~D_test[\"Body\"].isna()].to_list())"
   ]
  },
  {
   "cell_type": "code",
   "execution_count": 66,
   "metadata": {},
   "outputs": [],
   "source": [
    "X = D_train[\"feature1\"].to_numpy()\n",
    "Y = D_train[\"label\"].to_numpy()\n",
    "split=0.1\n",
    "X_train, X_test, y_train, y_test = train_test_split(X, Y, test_size=split, random_state=42)"
   ]
  },
  {
   "cell_type": "code",
   "execution_count": 68,
   "metadata": {},
   "outputs": [
    {
     "data": {
      "text/plain": [
       "LogisticRegression(C=1.0, class_weight=None, dual=False, fit_intercept=True,\n",
       "                   intercept_scaling=1, l1_ratio=None, max_iter=100,\n",
       "                   multi_class='auto', n_jobs=None, penalty='l2',\n",
       "                   random_state=None, solver='lbfgs', tol=0.0001, verbose=0,\n",
       "                   warm_start=False)"
      ]
     },
     "execution_count": 68,
     "metadata": {},
     "output_type": "execute_result"
    }
   ],
   "source": [
    "logreg = LogisticRegression()\n",
    "logreg.fit(X_train.reshape((-1, 1)), y_train)"
   ]
  },
  {
   "cell_type": "code",
   "execution_count": 76,
   "metadata": {},
   "outputs": [
    {
     "data": {
      "text/plain": [
       "0.9098396033829105"
      ]
     },
     "execution_count": 76,
     "metadata": {},
     "output_type": "execute_result"
    }
   ],
   "source": [
    "logreg.score(X_train.reshape(-1, 1), y_train)\n",
    "f1_score(logreg.predict(X_train.reshape(-1, 1)), y_train)"
   ]
  },
  {
   "cell_type": "code",
   "execution_count": 77,
   "metadata": {},
   "outputs": [
    {
     "data": {
      "text/plain": [
       "0.9135404759430532"
      ]
     },
     "execution_count": 77,
     "metadata": {},
     "output_type": "execute_result"
    }
   ],
   "source": [
    "f1_score(logreg.predict(X_test.reshape(-1, 1)), y_test)"
   ]
  },
  {
   "cell_type": "code",
   "execution_count": 78,
   "metadata": {},
   "outputs": [],
   "source": [
    "X_submission = D_test[\"feature1\"].to_numpy().reshape(-1, 1)\n"
   ]
  },
  {
   "cell_type": "code",
   "execution_count": 85,
   "metadata": {},
   "outputs": [],
   "source": [
    "pred = np.array([D_test.index.to_list(), logreg.predict(X_submission)]).T\n",
    "pd.DataFrame(pred, columns=[\"id\", \"class\"]).to_csv(\"SampleSubmission.csv\", index=False)\n"
   ]
  },
  {
   "cell_type": "code",
   "execution_count": null,
   "metadata": {},
   "outputs": [],
   "source": []
  }
 ],
 "metadata": {
  "kernelspec": {
   "display_name": "Python 3",
   "language": "python",
   "name": "python3"
  },
  "language_info": {
   "codemirror_mode": {
    "name": "ipython",
    "version": 3
   },
   "file_extension": ".py",
   "mimetype": "text/x-python",
   "name": "python",
   "nbconvert_exporter": "python",
   "pygments_lexer": "ipython3",
   "version": "3.7.6"
  }
 },
 "nbformat": 4,
 "nbformat_minor": 4
}
